{
 "cells": [
  {
   "cell_type": "markdown",
   "id": "3c99d8be",
   "metadata": {},
   "source": [
    "# Investigate the impacts of all realizations on all users "
   ]
  },
  {
   "cell_type": "code",
   "execution_count": 1,
   "id": "e81ac638",
   "metadata": {},
   "outputs": [],
   "source": [
    "import pandas as pd\n",
    "import numpy as np\n",
    "import os\n",
    "import glob\n",
    "import duckdb\n",
    "import ast\n",
    "import matplotlib.pyplot as plt\n",
    "import itertools"
   ]
  },
  {
   "cell_type": "markdown",
   "id": "5518cfe2",
   "metadata": {},
   "source": [
    "## Load drought counts and classify each realization"
   ]
  },
  {
   "cell_type": "code",
   "execution_count": 2,
   "id": "b18a997f",
   "metadata": {},
   "outputs": [],
   "source": [
    "# Load in all drought counts for all realizations\n",
    "droughts_df = pd.read_csv('../rival_framings_demand/drought_counts_all_realizations.csv', index_col=0)\n",
    "droughts_df.index = np.arange(1, len(droughts_df) + 1)"
   ]
  },
  {
   "cell_type": "code",
   "execution_count": 3,
   "id": "dd13f093",
   "metadata": {},
   "outputs": [
    {
     "data": {
      "text/html": [
       "<div>\n",
       "<style scoped>\n",
       "    .dataframe tbody tr th:only-of-type {\n",
       "        vertical-align: middle;\n",
       "    }\n",
       "\n",
       "    .dataframe tbody tr th {\n",
       "        vertical-align: top;\n",
       "    }\n",
       "\n",
       "    .dataframe thead th {\n",
       "        text-align: right;\n",
       "    }\n",
       "</style>\n",
       "<table border=\"1\" class=\"dataframe\">\n",
       "  <thead>\n",
       "    <tr style=\"text-align: right;\">\n",
       "      <th></th>\n",
       "      <th>Decadal counts</th>\n",
       "      <th>Multidecadal counts</th>\n",
       "      <th>Total counts</th>\n",
       "      <th>Drought years</th>\n",
       "      <th>Classification</th>\n",
       "    </tr>\n",
       "  </thead>\n",
       "  <tbody>\n",
       "    <tr>\n",
       "      <th>1</th>\n",
       "      <td>0</td>\n",
       "      <td>0</td>\n",
       "      <td>0</td>\n",
       "      <td>[[], []]</td>\n",
       "      <td>History</td>\n",
       "    </tr>\n",
       "    <tr>\n",
       "      <th>2</th>\n",
       "      <td>21</td>\n",
       "      <td>0</td>\n",
       "      <td>21</td>\n",
       "      <td>[[], [79, 80, 81, 82, 83, 84, 85, 86, 87, 88, ...</td>\n",
       "      <td>History</td>\n",
       "    </tr>\n",
       "    <tr>\n",
       "      <th>3</th>\n",
       "      <td>0</td>\n",
       "      <td>50</td>\n",
       "      <td>50</td>\n",
       "      <td>[[31, 32, 33, 34, 35, 36, 37, 38, 39, 40, 41, ...</td>\n",
       "      <td>Encompassing</td>\n",
       "    </tr>\n",
       "    <tr>\n",
       "      <th>4</th>\n",
       "      <td>15</td>\n",
       "      <td>0</td>\n",
       "      <td>15</td>\n",
       "      <td>[[], [96, 97, 98, 99, 100, 101, 102, 103, 89, ...</td>\n",
       "      <td>History</td>\n",
       "    </tr>\n",
       "    <tr>\n",
       "      <th>5</th>\n",
       "      <td>22</td>\n",
       "      <td>0</td>\n",
       "      <td>22</td>\n",
       "      <td>[[], [91, 92, 93, 94, 95, 96, 97, 98, 99, 36, ...</td>\n",
       "      <td>History</td>\n",
       "    </tr>\n",
       "  </tbody>\n",
       "</table>\n",
       "</div>"
      ],
      "text/plain": [
       "   Decadal counts  Multidecadal counts  Total counts  \\\n",
       "1               0                    0             0   \n",
       "2              21                    0            21   \n",
       "3               0                   50            50   \n",
       "4              15                    0            15   \n",
       "5              22                    0            22   \n",
       "\n",
       "                                       Drought years Classification  \n",
       "1                                           [[], []]        History  \n",
       "2  [[], [79, 80, 81, 82, 83, 84, 85, 86, 87, 88, ...        History  \n",
       "3  [[31, 32, 33, 34, 35, 36, 37, 38, 39, 40, 41, ...   Encompassing  \n",
       "4  [[], [96, 97, 98, 99, 100, 101, 102, 103, 89, ...        History  \n",
       "5  [[], [91, 92, 93, 94, 95, 96, 97, 98, 99, 36, ...        History  "
      ]
     },
     "execution_count": 3,
     "metadata": {},
     "output_type": "execute_result"
    }
   ],
   "source": [
    "# We will use these counts to classify whether a realization belongs \n",
    "# in history, paleo variability, or all-encompassing experiments\n",
    "\n",
    "# create a list of our conditions\n",
    "conditions = [\n",
    "    (droughts_df['Decadal counts']/105*100 <= 21) & (droughts_df['Multidecadal counts']/105*100 == 0), #history criteria\n",
    "    ((droughts_df['Decadal counts']/105*100 > 21) | (droughts_df['Multidecadal counts']/105*100 > 0)) & #paleo criteria\n",
    "    (droughts_df['Decadal counts']/105*100 <= 57) & (droughts_df['Multidecadal counts']/105*100 <= 42),\n",
    "    (droughts_df['Decadal counts']/105*100 > 57) | (droughts_df['Multidecadal counts']/105*100 > 42)] #all-encompassing critera\n",
    "\n",
    "# create a list of the values we want to assign for each condition\n",
    "values = ['History', 'Paleo', 'Encompassing']\n",
    "\n",
    "# create a new column and use np.select to assign values to it using our lists as arguments\n",
    "droughts_df['Classification'] = np.select(conditions, values)\n",
    "\n",
    "# display updated DataFrame\n",
    "droughts_df.head()"
   ]
  },
  {
   "cell_type": "code",
   "execution_count": 4,
   "id": "6d8694d5",
   "metadata": {},
   "outputs": [
    {
     "data": {
      "text/plain": [
       "Encompassing    533\n",
       "History         304\n",
       "Paleo           163\n",
       "Name: Classification, dtype: int64"
      ]
     },
     "execution_count": 4,
     "metadata": {},
     "output_type": "execute_result"
    }
   ],
   "source": [
    "droughts_df['Classification'].value_counts()"
   ]
  },
  {
   "cell_type": "code",
   "execution_count": 5,
   "id": "5cbe8b4b",
   "metadata": {},
   "outputs": [],
   "source": [
    "# directory where the experiment data is stored\n",
    "flow_data_dir = '../rival_framings_demand/xdd_parquet_flow'"
   ]
  },
  {
   "cell_type": "markdown",
   "id": "9796d2ac",
   "metadata": {},
   "source": [
    "## Loop through every realization and calculate summary impact metrics"
   ]
  },
  {
   "cell_type": "markdown",
   "id": "751546b6",
   "metadata": {},
   "source": [
    "Function converting order number to sample and realization for file retrieval"
   ]
  },
  {
   "cell_type": "code",
   "execution_count": 6,
   "id": "e95e8ed9",
   "metadata": {},
   "outputs": [],
   "source": [
    "no_to_realization = lambda x: (int((x-1)/10)+1, (x-1)%10+1)"
   ]
  },
  {
   "cell_type": "markdown",
   "id": "5b6629e9",
   "metadata": {},
   "source": [
    "Create empty dataframe to store impacts summary per realization"
   ]
  },
  {
   "cell_type": "code",
   "execution_count": 7,
   "id": "421ab663",
   "metadata": {},
   "outputs": [],
   "source": [
    "dtypes = np.dtype(\n",
    "    [\n",
    "        (\"Duration\", int),\n",
    "        (\"Magnitude\", float),\n",
    "        (\"%_users\", float)\n",
    "    ]\n",
    ")\n",
    "df_impacts = pd.DataFrame(np.zeros(1000, dtype=dtypes))\n",
    "df_impacts.index = np.arange(1, len(df_impacts) + 1)"
   ]
  },
  {
   "cell_type": "markdown",
   "id": "4599cdc5",
   "metadata": {},
   "source": [
    "Define function to calculate duration of continuous occurences"
   ]
  },
  {
   "cell_type": "code",
   "execution_count": 8,
   "id": "3e30043c",
   "metadata": {},
   "outputs": [],
   "source": [
    "def shortage_duration(sequence, threshold):\n",
    "    cnt_shrt = [sequence[i]>=threshold for i in range(len(sequence))] # Returns a list of True values when there's a shortage\n",
    "    shrt_dur = [ sum( 1 for _ in group ) for key, group in itertools.groupby( cnt_shrt ) if key ] # Counts groups of True values\n",
    "    return shrt_dur"
   ]
  },
  {
   "cell_type": "markdown",
   "id": "96cccc6a",
   "metadata": {},
   "source": [
    "Loop through all realizations and calculate user impacts"
   ]
  },
  {
   "cell_type": "code",
   "execution_count": 9,
   "id": "b7d7db9a",
   "metadata": {},
   "outputs": [
    {
     "name": "stdout",
     "output_type": "stream",
     "text": [
      "missing file S7_3\n",
      "missing file S28_6\n",
      "missing file S49_1\n",
      "missing file S93_2\n",
      "missing file S93_7\n",
      "missing file S94_5\n"
     ]
    }
   ],
   "source": [
    "for k in df_impacts.index:\n",
    "\n",
    "    # Create three arrays to store impacts for each user (no of users = 343)\n",
    "    duration_array = np.zeros(343)\n",
    "    magnitude_array = np.zeros(343)\n",
    "    experienced_shortage_array = np.zeros(343)\n",
    "\n",
    "    realization_index = k\n",
    "    # get sample and realization for file retrieval\n",
    "    sample, real = no_to_realization(realization_index)\n",
    "    # get years that are in drought in specific realization\n",
    "    years = list(itertools.chain.from_iterable(ast.literal_eval(droughts_df.at[int(realization_index),'Drought years'])))\n",
    "    years = tuple([x+1908 for x in years])\n",
    "    \n",
    "    # only do the following if there's at least one drought year\n",
    "    # if there is no drought, values will stay default (zero)\n",
    "    if years:\n",
    "        # target glob path\n",
    "        glob_path = os.path.join(flow_data_dir, f'S{sample}_{real}.parquet')\n",
    "        #filter out gauge structures and keep only drought years\n",
    "\n",
    "        sql = f\"\"\"\n",
    "        SELECT \n",
    "            *\n",
    "        FROM\n",
    "            '{glob_path}'\n",
    "        WHERE\n",
    "            year in {years}\n",
    "            AND structure_id NOT LIKE '09%' ; \n",
    "        \"\"\"\n",
    "        try:\n",
    "            df = duckdb.query(sql).df()\n",
    "            # Calculate shortage to drought percentage\n",
    "            df['ratio'] = df['shortage']/df['demand']*100\n",
    "            df['ratio'] = df['ratio'].fillna(0)\n",
    "\n",
    "            # Get list of users\n",
    "            users = df['structure_id'].unique()\n",
    "\n",
    "            # Loop through all users and calculate individual impacts\n",
    "            for j in range(len(users)):\n",
    "                user_index = j\n",
    "                user = users[user_index]\n",
    "                user_impacts = df[df['structure_id']==user]\n",
    "                if np.sum(user_impacts['ratio']) > 0: # check if user experienced any impacts\n",
    "                    experienced_shortage_array[user_index] = 1\n",
    "                    # calculate mean user impacts\n",
    "                    magnitude_array[user_index] = np.around(np.mean(user_impacts['ratio']), decimals= 1) \n",
    "                    # calculate longest duration of at least mean\n",
    "                    user_shrt_dur = shortage_duration(user_impacts['ratio'].values, \n",
    "                                                      magnitude_array[user_index]) \n",
    "                    if user_shrt_dur:\n",
    "                        duration_array[user_index] = np.around(np.max(user_shrt_dur)/12, decimals= 1) \n",
    "            # Summarize impacts across all users \n",
    "            df_impacts.at[realization_index, \"%_users\"] = np.around(np.sum(experienced_shortage_array)/343*100, decimals= 0)\n",
    "            df_impacts.at[realization_index, \"Magnitude\"] = np.around(np.mean(magnitude_array), decimals= 0)\n",
    "            df_impacts.at[realization_index, \"Duration\"] = np.around(np.mean(user_shrt_dur), decimals= 0)\n",
    "        except RuntimeError:\n",
    "            print(f'missing file S{sample}_{real}')"
   ]
  },
  {
   "cell_type": "code",
   "execution_count": 12,
   "id": "5c608274",
   "metadata": {},
   "outputs": [],
   "source": [
    "df_impacts['Classification'] = droughts_df['Classification']\n",
    "df_impacts.to_csv('drought_impacts_all_realizations.csv')"
   ]
  },
  {
   "cell_type": "code",
   "execution_count": null,
   "id": "13e97315",
   "metadata": {},
   "outputs": [],
   "source": []
  }
 ],
 "metadata": {
  "kernelspec": {
   "display_name": "Python 3",
   "language": "python",
   "name": "python3"
  },
  "language_info": {
   "codemirror_mode": {
    "name": "ipython",
    "version": 3
   },
   "file_extension": ".py",
   "mimetype": "text/x-python",
   "name": "python",
   "nbconvert_exporter": "python",
   "pygments_lexer": "ipython3",
   "version": "3.6.8"
  }
 },
 "nbformat": 4,
 "nbformat_minor": 5
}
