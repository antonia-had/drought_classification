{
 "cells": [
  {
   "cell_type": "markdown",
   "id": "6040c2f8",
   "metadata": {
    "pycharm": {
     "name": "#%% md\n"
    }
   },
   "source": [
    "# Investigate the impacts of different types of droughts on the UCRB"
   ]
  },
  {
   "cell_type": "code",
   "execution_count": 1,
   "id": "a2fd1a38",
   "metadata": {
    "pycharm": {
     "name": "#%%\n"
    }
   },
   "outputs": [],
   "source": [
    "import pandas as pd\n",
    "import numpy as np\n",
    "import os\n",
    "import glob\n",
    "import duckdb\n",
    "import ast\n",
    "import matplotlib.pyplot as plt"
   ]
  },
  {
   "cell_type": "code",
   "execution_count": 2,
   "id": "102a4472",
   "metadata": {
    "pycharm": {
     "name": "#%%\n"
    }
   },
   "outputs": [
    {
     "data": {
      "text/html": [
       "<div>\n",
       "<style scoped>\n",
       "    .dataframe tbody tr th:only-of-type {\n",
       "        vertical-align: middle;\n",
       "    }\n",
       "\n",
       "    .dataframe tbody tr th {\n",
       "        vertical-align: top;\n",
       "    }\n",
       "\n",
       "    .dataframe thead th {\n",
       "        text-align: right;\n",
       "    }\n",
       "</style>\n",
       "<table border=\"1\" class=\"dataframe\">\n",
       "  <thead>\n",
       "    <tr style=\"text-align: right;\">\n",
       "      <th></th>\n",
       "      <th>Decadal counts</th>\n",
       "      <th>Multidecadal counts</th>\n",
       "      <th>Total counts</th>\n",
       "      <th>Drought years</th>\n",
       "    </tr>\n",
       "  </thead>\n",
       "  <tbody>\n",
       "    <tr>\n",
       "      <th>1</th>\n",
       "      <td>0</td>\n",
       "      <td>0</td>\n",
       "      <td>0</td>\n",
       "      <td>[[], []]</td>\n",
       "    </tr>\n",
       "    <tr>\n",
       "      <th>2</th>\n",
       "      <td>21</td>\n",
       "      <td>0</td>\n",
       "      <td>21</td>\n",
       "      <td>[[], [79, 80, 81, 82, 83, 84, 85, 86, 87, 88, ...</td>\n",
       "    </tr>\n",
       "    <tr>\n",
       "      <th>3</th>\n",
       "      <td>0</td>\n",
       "      <td>50</td>\n",
       "      <td>50</td>\n",
       "      <td>[[31, 32, 33, 34, 35, 36, 37, 38, 39, 40, 41, ...</td>\n",
       "    </tr>\n",
       "    <tr>\n",
       "      <th>4</th>\n",
       "      <td>15</td>\n",
       "      <td>0</td>\n",
       "      <td>15</td>\n",
       "      <td>[[], [96, 97, 98, 99, 100, 101, 102, 103, 89, ...</td>\n",
       "    </tr>\n",
       "    <tr>\n",
       "      <th>5</th>\n",
       "      <td>22</td>\n",
       "      <td>0</td>\n",
       "      <td>22</td>\n",
       "      <td>[[], [91, 92, 93, 94, 95, 96, 97, 98, 99, 36, ...</td>\n",
       "    </tr>\n",
       "    <tr>\n",
       "      <th>...</th>\n",
       "      <td>...</td>\n",
       "      <td>...</td>\n",
       "      <td>...</td>\n",
       "      <td>...</td>\n",
       "    </tr>\n",
       "    <tr>\n",
       "      <th>996</th>\n",
       "      <td>0</td>\n",
       "      <td>0</td>\n",
       "      <td>0</td>\n",
       "      <td>[[], []]</td>\n",
       "    </tr>\n",
       "    <tr>\n",
       "      <th>997</th>\n",
       "      <td>0</td>\n",
       "      <td>0</td>\n",
       "      <td>0</td>\n",
       "      <td>[[], []]</td>\n",
       "    </tr>\n",
       "    <tr>\n",
       "      <th>998</th>\n",
       "      <td>13</td>\n",
       "      <td>0</td>\n",
       "      <td>13</td>\n",
       "      <td>[[], [64, 65, 66, 67, 68, 69, 70, 71, 59, 60, ...</td>\n",
       "    </tr>\n",
       "    <tr>\n",
       "      <th>999</th>\n",
       "      <td>0</td>\n",
       "      <td>0</td>\n",
       "      <td>0</td>\n",
       "      <td>[[], []]</td>\n",
       "    </tr>\n",
       "    <tr>\n",
       "      <th>1000</th>\n",
       "      <td>0</td>\n",
       "      <td>0</td>\n",
       "      <td>0</td>\n",
       "      <td>[[], []]</td>\n",
       "    </tr>\n",
       "  </tbody>\n",
       "</table>\n",
       "<p>1000 rows × 4 columns</p>\n",
       "</div>"
      ],
      "text/plain": [
       "      Decadal counts  Multidecadal counts  Total counts  \\\n",
       "1                  0                    0             0   \n",
       "2                 21                    0            21   \n",
       "3                  0                   50            50   \n",
       "4                 15                    0            15   \n",
       "5                 22                    0            22   \n",
       "...              ...                  ...           ...   \n",
       "996                0                    0             0   \n",
       "997                0                    0             0   \n",
       "998               13                    0            13   \n",
       "999                0                    0             0   \n",
       "1000               0                    0             0   \n",
       "\n",
       "                                          Drought years  \n",
       "1                                              [[], []]  \n",
       "2     [[], [79, 80, 81, 82, 83, 84, 85, 86, 87, 88, ...  \n",
       "3     [[31, 32, 33, 34, 35, 36, 37, 38, 39, 40, 41, ...  \n",
       "4     [[], [96, 97, 98, 99, 100, 101, 102, 103, 89, ...  \n",
       "5     [[], [91, 92, 93, 94, 95, 96, 97, 98, 99, 36, ...  \n",
       "...                                                 ...  \n",
       "996                                            [[], []]  \n",
       "997                                            [[], []]  \n",
       "998   [[], [64, 65, 66, 67, 68, 69, 70, 71, 59, 60, ...  \n",
       "999                                            [[], []]  \n",
       "1000                                           [[], []]  \n",
       "\n",
       "[1000 rows x 4 columns]"
      ]
     },
     "execution_count": 2,
     "metadata": {},
     "output_type": "execute_result"
    }
   ],
   "source": [
    "droughts_df = pd.read_csv('../rival_framings_demand/drought_counts_all_realizations.csv', index_col=0)\n",
    "droughts_df.index = np.arange(1, len(droughts_df) + 1)\n",
    "droughts_df"
   ]
  },
  {
   "cell_type": "code",
   "execution_count": 3,
   "id": "e24cf3ec",
   "metadata": {
    "pycharm": {
     "name": "#%%\n"
    }
   },
   "outputs": [],
   "source": [
    "# directory where the experiment data is stored\n",
    "flow_data_dir = '../rival_framings_demand/xdd_parquet_flow'"
   ]
  },
  {
   "cell_type": "markdown",
   "id": "779b97ff",
   "metadata": {
    "pycharm": {
     "name": "#%% md\n"
    }
   },
   "source": [
    "Identify realizations similar or better than history (drought years=22)"
   ]
  },
  {
   "cell_type": "code",
   "execution_count": 4,
   "id": "cf38361a",
   "metadata": {
    "pycharm": {
     "name": "#%%\n"
    }
   },
   "outputs": [],
   "source": [
    "realizations_history=tuple(map(str, np.where((droughts_df['Total counts'] >=10) & \n",
    "                                             (droughts_df['Total counts'] <= 22))[0]+1))"
   ]
  },
  {
   "cell_type": "markdown",
   "id": "9f33e9fe",
   "metadata": {
    "pycharm": {
     "name": "#%% md\n"
    }
   },
   "source": [
    "Function converting order number to sample and realization for file retrieval"
   ]
  },
  {
   "cell_type": "code",
   "execution_count": 5,
   "id": "1049c902",
   "metadata": {
    "pycharm": {
     "name": "#%%\n"
    }
   },
   "outputs": [],
   "source": [
    "no_to_realization = lambda x: (int(x/10)+1, (x)%10+1)"
   ]
  },
  {
   "cell_type": "markdown",
   "id": "67040cad",
   "metadata": {
    "pycharm": {
     "name": "#%% md\n"
    }
   },
   "source": [
    "Identify all samples that produce these realizations"
   ]
  },
  {
   "cell_type": "code",
   "execution_count": 6,
   "id": "bdc35aa3",
   "metadata": {
    "pycharm": {
     "name": "#%%\n"
    }
   },
   "outputs": [],
   "source": [
    "samples = tuple(np.unique([no_to_realization(int(x))[0] for x in realizations_history]))"
   ]
  },
  {
   "cell_type": "markdown",
   "id": "40c84352",
   "metadata": {
    "pycharm": {
     "name": "#%% md\n"
    }
   },
   "source": [
    "Create glob path to specific realization results"
   ]
  },
  {
   "cell_type": "code",
   "execution_count": 7,
   "id": "0cd2dac1",
   "metadata": {
    "pycharm": {
     "name": "#%%\n"
    }
   },
   "outputs": [],
   "source": [
    "# target glob path\n",
    "glob_path = os.path.join(flow_data_dir, f'S*_*.parquet')\n",
    "\n",
    "# number of files in file query\n",
    "n_files = len(glob.glob(glob_path))"
   ]
  },
  {
   "cell_type": "code",
   "execution_count": 8,
   "id": "dc9e2c1d",
   "metadata": {
    "pycharm": {
     "name": "#%%\n"
    }
   },
   "outputs": [
    {
     "data": {
      "text/html": [
       "<div>\n",
       "<style scoped>\n",
       "    .dataframe tbody tr th:only-of-type {\n",
       "        vertical-align: middle;\n",
       "    }\n",
       "\n",
       "    .dataframe tbody tr th {\n",
       "        vertical-align: top;\n",
       "    }\n",
       "\n",
       "    .dataframe thead th {\n",
       "        text-align: right;\n",
       "    }\n",
       "</style>\n",
       "<table border=\"1\" class=\"dataframe\">\n",
       "  <thead>\n",
       "    <tr style=\"text-align: right;\">\n",
       "      <th></th>\n",
       "      <th>structure_id</th>\n",
       "      <th>year</th>\n",
       "      <th>month</th>\n",
       "      <th>demand</th>\n",
       "      <th>shortage</th>\n",
       "      <th>river_outflow</th>\n",
       "      <th>control_location</th>\n",
       "      <th>sample</th>\n",
       "      <th>realization</th>\n",
       "    </tr>\n",
       "  </thead>\n",
       "  <tbody>\n",
       "    <tr>\n",
       "      <th>0</th>\n",
       "      <td>09010500</td>\n",
       "      <td>1908</td>\n",
       "      <td>OCT</td>\n",
       "      <td>0</td>\n",
       "      <td>0</td>\n",
       "      <td>1694</td>\n",
       "      <td>NaN</td>\n",
       "      <td>73</td>\n",
       "      <td>3</td>\n",
       "    </tr>\n",
       "    <tr>\n",
       "      <th>1</th>\n",
       "      <td>09010500</td>\n",
       "      <td>1908</td>\n",
       "      <td>NOV</td>\n",
       "      <td>0</td>\n",
       "      <td>0</td>\n",
       "      <td>1166</td>\n",
       "      <td>NaN</td>\n",
       "      <td>73</td>\n",
       "      <td>3</td>\n",
       "    </tr>\n",
       "    <tr>\n",
       "      <th>2</th>\n",
       "      <td>09010500</td>\n",
       "      <td>1908</td>\n",
       "      <td>DEC</td>\n",
       "      <td>0</td>\n",
       "      <td>0</td>\n",
       "      <td>920</td>\n",
       "      <td>NaN</td>\n",
       "      <td>73</td>\n",
       "      <td>3</td>\n",
       "    </tr>\n",
       "    <tr>\n",
       "      <th>3</th>\n",
       "      <td>09010500</td>\n",
       "      <td>1909</td>\n",
       "      <td>JAN</td>\n",
       "      <td>0</td>\n",
       "      <td>0</td>\n",
       "      <td>725</td>\n",
       "      <td>NaN</td>\n",
       "      <td>73</td>\n",
       "      <td>3</td>\n",
       "    </tr>\n",
       "    <tr>\n",
       "      <th>4</th>\n",
       "      <td>09010500</td>\n",
       "      <td>1909</td>\n",
       "      <td>FEB</td>\n",
       "      <td>0</td>\n",
       "      <td>0</td>\n",
       "      <td>597</td>\n",
       "      <td>NaN</td>\n",
       "      <td>73</td>\n",
       "      <td>3</td>\n",
       "    </tr>\n",
       "    <tr>\n",
       "      <th>...</th>\n",
       "      <td>...</td>\n",
       "      <td>...</td>\n",
       "      <td>...</td>\n",
       "      <td>...</td>\n",
       "      <td>...</td>\n",
       "      <td>...</td>\n",
       "      <td>...</td>\n",
       "      <td>...</td>\n",
       "      <td>...</td>\n",
       "    </tr>\n",
       "    <tr>\n",
       "      <th>45843835</th>\n",
       "      <td>09163500</td>\n",
       "      <td>2013</td>\n",
       "      <td>MAY</td>\n",
       "      <td>0</td>\n",
       "      <td>0</td>\n",
       "      <td>189992</td>\n",
       "      <td>NaN</td>\n",
       "      <td>7</td>\n",
       "      <td>8</td>\n",
       "    </tr>\n",
       "    <tr>\n",
       "      <th>45843836</th>\n",
       "      <td>09163500</td>\n",
       "      <td>2013</td>\n",
       "      <td>JUN</td>\n",
       "      <td>0</td>\n",
       "      <td>0</td>\n",
       "      <td>158893</td>\n",
       "      <td>NaN</td>\n",
       "      <td>7</td>\n",
       "      <td>8</td>\n",
       "    </tr>\n",
       "    <tr>\n",
       "      <th>45843837</th>\n",
       "      <td>09163500</td>\n",
       "      <td>2013</td>\n",
       "      <td>JUL</td>\n",
       "      <td>0</td>\n",
       "      <td>0</td>\n",
       "      <td>120461</td>\n",
       "      <td>NaN</td>\n",
       "      <td>7</td>\n",
       "      <td>8</td>\n",
       "    </tr>\n",
       "    <tr>\n",
       "      <th>45843838</th>\n",
       "      <td>09163500</td>\n",
       "      <td>2013</td>\n",
       "      <td>AUG</td>\n",
       "      <td>0</td>\n",
       "      <td>0</td>\n",
       "      <td>125278</td>\n",
       "      <td>NaN</td>\n",
       "      <td>7</td>\n",
       "      <td>8</td>\n",
       "    </tr>\n",
       "    <tr>\n",
       "      <th>45843839</th>\n",
       "      <td>09163500</td>\n",
       "      <td>2013</td>\n",
       "      <td>SEP</td>\n",
       "      <td>0</td>\n",
       "      <td>0</td>\n",
       "      <td>157442</td>\n",
       "      <td>NaN</td>\n",
       "      <td>7</td>\n",
       "      <td>8</td>\n",
       "    </tr>\n",
       "  </tbody>\n",
       "</table>\n",
       "<p>45843840 rows × 9 columns</p>\n",
       "</div>"
      ],
      "text/plain": [
       "         structure_id  year month  demand  shortage  river_outflow  \\\n",
       "0            09010500  1908   OCT       0         0           1694   \n",
       "1            09010500  1908   NOV       0         0           1166   \n",
       "2            09010500  1908   DEC       0         0            920   \n",
       "3            09010500  1909   JAN       0         0            725   \n",
       "4            09010500  1909   FEB       0         0            597   \n",
       "...               ...   ...   ...     ...       ...            ...   \n",
       "45843835     09163500  2013   MAY       0         0         189992   \n",
       "45843836     09163500  2013   JUN       0         0         158893   \n",
       "45843837     09163500  2013   JUL       0         0         120461   \n",
       "45843838     09163500  2013   AUG       0         0         125278   \n",
       "45843839     09163500  2013   SEP       0         0         157442   \n",
       "\n",
       "         control_location  sample  realization  \n",
       "0                     NaN      73            3  \n",
       "1                     NaN      73            3  \n",
       "2                     NaN      73            3  \n",
       "3                     NaN      73            3  \n",
       "4                     NaN      73            3  \n",
       "...                   ...     ...          ...  \n",
       "45843835              NaN       7            8  \n",
       "45843836              NaN       7            8  \n",
       "45843837              NaN       7            8  \n",
       "45843838              NaN       7            8  \n",
       "45843839              NaN       7            8  \n",
       "\n",
       "[45843840 rows x 9 columns]"
      ]
     },
     "execution_count": 8,
     "metadata": {},
     "output_type": "execute_result"
    }
   ],
   "source": [
    "#limits rows to those that belong to list of realizations\n",
    "sql = f\"\"\"\n",
    "SELECT \n",
    "    *\n",
    "FROM\n",
    "    '{glob_path}'\n",
    "WHERE\n",
    "    (sample-1)*10+realization in {realizations_history}; \n",
    "\"\"\"\n",
    "\n",
    "df = duckdb.query(sql).df()\n",
    "df"
   ]
  },
  {
   "cell_type": "code",
   "execution_count": 9,
   "id": "a0f24ac0",
   "metadata": {
    "pycharm": {
     "name": "#%%\n"
    }
   },
   "outputs": [],
   "source": [
    "df['realization_number']=(df['sample']-1)*10+df['realization']"
   ]
  },
  {
   "cell_type": "code",
   "execution_count": 10,
   "id": "42d0dc0a",
   "metadata": {
    "pycharm": {
     "name": "#%%\n"
    }
   },
   "outputs": [
    {
     "data": {
      "text/html": [
       "<div>\n",
       "<style scoped>\n",
       "    .dataframe tbody tr th:only-of-type {\n",
       "        vertical-align: middle;\n",
       "    }\n",
       "\n",
       "    .dataframe tbody tr th {\n",
       "        vertical-align: top;\n",
       "    }\n",
       "\n",
       "    .dataframe thead th {\n",
       "        text-align: right;\n",
       "    }\n",
       "</style>\n",
       "<table border=\"1\" class=\"dataframe\">\n",
       "  <thead>\n",
       "    <tr style=\"text-align: right;\">\n",
       "      <th></th>\n",
       "      <th>structure_id</th>\n",
       "      <th>year</th>\n",
       "      <th>month</th>\n",
       "      <th>demand</th>\n",
       "      <th>shortage</th>\n",
       "      <th>river_outflow</th>\n",
       "      <th>control_location</th>\n",
       "      <th>sample</th>\n",
       "      <th>realization</th>\n",
       "      <th>realization_number</th>\n",
       "    </tr>\n",
       "  </thead>\n",
       "  <tbody>\n",
       "    <tr>\n",
       "      <th>0</th>\n",
       "      <td>09010500</td>\n",
       "      <td>1908</td>\n",
       "      <td>OCT</td>\n",
       "      <td>0</td>\n",
       "      <td>0</td>\n",
       "      <td>1694</td>\n",
       "      <td>NaN</td>\n",
       "      <td>73</td>\n",
       "      <td>3</td>\n",
       "      <td>723</td>\n",
       "    </tr>\n",
       "    <tr>\n",
       "      <th>1</th>\n",
       "      <td>09010500</td>\n",
       "      <td>1908</td>\n",
       "      <td>NOV</td>\n",
       "      <td>0</td>\n",
       "      <td>0</td>\n",
       "      <td>1166</td>\n",
       "      <td>NaN</td>\n",
       "      <td>73</td>\n",
       "      <td>3</td>\n",
       "      <td>723</td>\n",
       "    </tr>\n",
       "    <tr>\n",
       "      <th>2</th>\n",
       "      <td>09010500</td>\n",
       "      <td>1908</td>\n",
       "      <td>DEC</td>\n",
       "      <td>0</td>\n",
       "      <td>0</td>\n",
       "      <td>920</td>\n",
       "      <td>NaN</td>\n",
       "      <td>73</td>\n",
       "      <td>3</td>\n",
       "      <td>723</td>\n",
       "    </tr>\n",
       "    <tr>\n",
       "      <th>3</th>\n",
       "      <td>09010500</td>\n",
       "      <td>1909</td>\n",
       "      <td>JAN</td>\n",
       "      <td>0</td>\n",
       "      <td>0</td>\n",
       "      <td>725</td>\n",
       "      <td>NaN</td>\n",
       "      <td>73</td>\n",
       "      <td>3</td>\n",
       "      <td>723</td>\n",
       "    </tr>\n",
       "    <tr>\n",
       "      <th>4</th>\n",
       "      <td>09010500</td>\n",
       "      <td>1909</td>\n",
       "      <td>FEB</td>\n",
       "      <td>0</td>\n",
       "      <td>0</td>\n",
       "      <td>597</td>\n",
       "      <td>NaN</td>\n",
       "      <td>73</td>\n",
       "      <td>3</td>\n",
       "      <td>723</td>\n",
       "    </tr>\n",
       "    <tr>\n",
       "      <th>...</th>\n",
       "      <td>...</td>\n",
       "      <td>...</td>\n",
       "      <td>...</td>\n",
       "      <td>...</td>\n",
       "      <td>...</td>\n",
       "      <td>...</td>\n",
       "      <td>...</td>\n",
       "      <td>...</td>\n",
       "      <td>...</td>\n",
       "      <td>...</td>\n",
       "    </tr>\n",
       "    <tr>\n",
       "      <th>45843835</th>\n",
       "      <td>09163500</td>\n",
       "      <td>2013</td>\n",
       "      <td>MAY</td>\n",
       "      <td>0</td>\n",
       "      <td>0</td>\n",
       "      <td>189992</td>\n",
       "      <td>NaN</td>\n",
       "      <td>7</td>\n",
       "      <td>8</td>\n",
       "      <td>68</td>\n",
       "    </tr>\n",
       "    <tr>\n",
       "      <th>45843836</th>\n",
       "      <td>09163500</td>\n",
       "      <td>2013</td>\n",
       "      <td>JUN</td>\n",
       "      <td>0</td>\n",
       "      <td>0</td>\n",
       "      <td>158893</td>\n",
       "      <td>NaN</td>\n",
       "      <td>7</td>\n",
       "      <td>8</td>\n",
       "      <td>68</td>\n",
       "    </tr>\n",
       "    <tr>\n",
       "      <th>45843837</th>\n",
       "      <td>09163500</td>\n",
       "      <td>2013</td>\n",
       "      <td>JUL</td>\n",
       "      <td>0</td>\n",
       "      <td>0</td>\n",
       "      <td>120461</td>\n",
       "      <td>NaN</td>\n",
       "      <td>7</td>\n",
       "      <td>8</td>\n",
       "      <td>68</td>\n",
       "    </tr>\n",
       "    <tr>\n",
       "      <th>45843838</th>\n",
       "      <td>09163500</td>\n",
       "      <td>2013</td>\n",
       "      <td>AUG</td>\n",
       "      <td>0</td>\n",
       "      <td>0</td>\n",
       "      <td>125278</td>\n",
       "      <td>NaN</td>\n",
       "      <td>7</td>\n",
       "      <td>8</td>\n",
       "      <td>68</td>\n",
       "    </tr>\n",
       "    <tr>\n",
       "      <th>45843839</th>\n",
       "      <td>09163500</td>\n",
       "      <td>2013</td>\n",
       "      <td>SEP</td>\n",
       "      <td>0</td>\n",
       "      <td>0</td>\n",
       "      <td>157442</td>\n",
       "      <td>NaN</td>\n",
       "      <td>7</td>\n",
       "      <td>8</td>\n",
       "      <td>68</td>\n",
       "    </tr>\n",
       "  </tbody>\n",
       "</table>\n",
       "<p>45843840 rows × 10 columns</p>\n",
       "</div>"
      ],
      "text/plain": [
       "         structure_id  year month  demand  shortage  river_outflow  \\\n",
       "0            09010500  1908   OCT       0         0           1694   \n",
       "1            09010500  1908   NOV       0         0           1166   \n",
       "2            09010500  1908   DEC       0         0            920   \n",
       "3            09010500  1909   JAN       0         0            725   \n",
       "4            09010500  1909   FEB       0         0            597   \n",
       "...               ...   ...   ...     ...       ...            ...   \n",
       "45843835     09163500  2013   MAY       0         0         189992   \n",
       "45843836     09163500  2013   JUN       0         0         158893   \n",
       "45843837     09163500  2013   JUL       0         0         120461   \n",
       "45843838     09163500  2013   AUG       0         0         125278   \n",
       "45843839     09163500  2013   SEP       0         0         157442   \n",
       "\n",
       "         control_location  sample  realization  realization_number  \n",
       "0                     NaN      73            3                 723  \n",
       "1                     NaN      73            3                 723  \n",
       "2                     NaN      73            3                 723  \n",
       "3                     NaN      73            3                 723  \n",
       "4                     NaN      73            3                 723  \n",
       "...                   ...     ...          ...                 ...  \n",
       "45843835              NaN       7            8                  68  \n",
       "45843836              NaN       7            8                  68  \n",
       "45843837              NaN       7            8                  68  \n",
       "45843838              NaN       7            8                  68  \n",
       "45843839              NaN       7            8                  68  \n",
       "\n",
       "[45843840 rows x 10 columns]"
      ]
     },
     "execution_count": 10,
     "metadata": {},
     "output_type": "execute_result"
    }
   ],
   "source": [
    "df"
   ]
  },
  {
   "cell_type": "markdown",
   "id": "59e443ac",
   "metadata": {
    "pycharm": {
     "name": "#%% md\n"
    }
   },
   "source": [
    "Calculate shortage to demand ratio for entire basin for every drought event"
   ]
  },
  {
   "cell_type": "code",
   "execution_count": 11,
   "id": "98b40bb1",
   "metadata": {
    "pycharm": {
     "name": "#%%\n"
    }
   },
   "outputs": [],
   "source": [
    "shortage_ratio = []\n",
    "years_list = []\n",
    "for i in realizations_history:\n",
    "    years = ast.literal_eval(droughts_df.at[int(i),'Drought years'])[1]\n",
    "    years = [x+1908 for x in years]\n",
    "    total_demand = df.loc[(df['realization_number'] == int(i)) & (df['year'].isin(years)), 'demand'].sum()\n",
    "    total_shortage = df.loc[(df['realization_number'] == int(i)) & (df['year'].isin(years)), 'shortage'].sum()\n",
    "    shortage_ratio.append(total_shortage/total_demand)\n",
    "    years_list.append(len(years))"
   ]
  },
  {
   "cell_type": "markdown",
   "id": "3ac73040",
   "metadata": {
    "pycharm": {
     "name": "#%% md\n"
    }
   },
   "source": [
    "Plot shortage ratio and duration for every drought event"
   ]
  },
  {
   "cell_type": "code",
   "execution_count": 12,
   "id": "0c42891b",
   "metadata": {
    "pycharm": {
     "name": "#%%\n"
    }
   },
   "outputs": [
    {
     "data": {
      "image/png": "[encoded data removed]",
      "text/plain": [
       "<Figure size 2400x1200 with 1 Axes>"
      ]
     },
     "metadata": {
      "needs_background": "light"
     },
     "output_type": "display_data"
    }
   ],
   "source": [
    "plt.figure(figsize=(8, 4), dpi=300)\n",
    "plt.scatter(years_list, shortage_ratio)\n",
    "plt.title(\"Basin-wide impacts from history-equivalent droughts\", fontsize=18)\n",
    "plt.xlabel(\"Drought duration (years)\")\n",
    "plt.ylabel(\"Shortage/demand ratio\")\n",
    "plt.tick_params(axis='both', labelsize=14)\n",
    "plt.ylabel(\"Shortage ratio\", fontsize=16)\n",
    "plt.xlabel(\"Drought duration\", fontsize=16)\n",
    "plt.show()"
   ]
  },
  {
   "cell_type": "markdown",
   "id": "abc57e8b",
   "metadata": {
    "pycharm": {
     "name": "#%% md\n"
    }
   },
   "source": [
    "## Investigate user and basin impacts of specific drought events"
   ]
  },
  {
   "cell_type": "markdown",
   "id": "db98a690",
   "metadata": {
    "pycharm": {
     "name": "#%% md\n"
    }
   },
   "source": [
    "Create summary dataframe of drought metrics"
   ]
  },
  {
   "cell_type": "code",
   "execution_count": 13,
   "id": "7a52ded9",
   "metadata": {
    "pycharm": {
     "name": "#%%\n"
    }
   },
   "outputs": [
    {
     "data": {
      "text/html": [
       "<div>\n",
       "<style scoped>\n",
       "    .dataframe tbody tr th:only-of-type {\n",
       "        vertical-align: middle;\n",
       "    }\n",
       "\n",
       "    .dataframe tbody tr th {\n",
       "        vertical-align: top;\n",
       "    }\n",
       "\n",
       "    .dataframe thead th {\n",
       "        text-align: right;\n",
       "    }\n",
       "</style>\n",
       "<table border=\"1\" class=\"dataframe\">\n",
       "  <thead>\n",
       "    <tr style=\"text-align: right;\">\n",
       "      <th></th>\n",
       "      <th>realization_number</th>\n",
       "      <th>shortage ratio</th>\n",
       "      <th>duration</th>\n",
       "    </tr>\n",
       "  </thead>\n",
       "  <tbody>\n",
       "    <tr>\n",
       "      <th>0</th>\n",
       "      <td>2</td>\n",
       "      <td>0.19</td>\n",
       "      <td>21</td>\n",
       "    </tr>\n",
       "    <tr>\n",
       "      <th>1</th>\n",
       "      <td>4</td>\n",
       "      <td>0.18</td>\n",
       "      <td>15</td>\n",
       "    </tr>\n",
       "    <tr>\n",
       "      <th>2</th>\n",
       "      <td>5</td>\n",
       "      <td>0.16</td>\n",
       "      <td>22</td>\n",
       "    </tr>\n",
       "    <tr>\n",
       "      <th>3</th>\n",
       "      <td>6</td>\n",
       "      <td>0.18</td>\n",
       "      <td>12</td>\n",
       "    </tr>\n",
       "    <tr>\n",
       "      <th>4</th>\n",
       "      <td>7</td>\n",
       "      <td>0.18</td>\n",
       "      <td>20</td>\n",
       "    </tr>\n",
       "    <tr>\n",
       "      <th>...</th>\n",
       "      <td>...</td>\n",
       "      <td>...</td>\n",
       "      <td>...</td>\n",
       "    </tr>\n",
       "    <tr>\n",
       "      <th>91</th>\n",
       "      <td>941</td>\n",
       "      <td>0.34</td>\n",
       "      <td>14</td>\n",
       "    </tr>\n",
       "    <tr>\n",
       "      <th>92</th>\n",
       "      <td>943</td>\n",
       "      <td>0.23</td>\n",
       "      <td>17</td>\n",
       "    </tr>\n",
       "    <tr>\n",
       "      <th>93</th>\n",
       "      <td>973</td>\n",
       "      <td>0.19</td>\n",
       "      <td>14</td>\n",
       "    </tr>\n",
       "    <tr>\n",
       "      <th>94</th>\n",
       "      <td>992</td>\n",
       "      <td>0.18</td>\n",
       "      <td>11</td>\n",
       "    </tr>\n",
       "    <tr>\n",
       "      <th>95</th>\n",
       "      <td>998</td>\n",
       "      <td>0.17</td>\n",
       "      <td>13</td>\n",
       "    </tr>\n",
       "  </tbody>\n",
       "</table>\n",
       "<p>96 rows × 3 columns</p>\n",
       "</div>"
      ],
      "text/plain": [
       "   realization_number  shortage ratio  duration\n",
       "0                   2            0.19        21\n",
       "1                   4            0.18        15\n",
       "2                   5            0.16        22\n",
       "3                   6            0.18        12\n",
       "4                   7            0.18        20\n",
       "..                ...             ...       ...\n",
       "91                941            0.34        14\n",
       "92                943            0.23        17\n",
       "93                973            0.19        14\n",
       "94                992            0.18        11\n",
       "95                998            0.17        13\n",
       "\n",
       "[96 rows x 3 columns]"
      ]
     },
     "execution_count": 13,
     "metadata": {},
     "output_type": "execute_result"
    }
   ],
   "source": [
    "d = {\"realization_number\": realizations_history, \"shortage ratio\": shortage_ratio, \"duration\": years_list}\n",
    "pd.options.display.float_format = '{:,.2f}'.format\n",
    "summary_df = pd.DataFrame(d)\n",
    "summary_df"
   ]
  },
  {
   "cell_type": "markdown",
   "id": "54552431",
   "metadata": {
    "pycharm": {
     "name": "#%% md\n"
    }
   },
   "source": [
    "### Look at basin outflows\n",
    "Delivery estimate for UCRB:\n",
    "\n",
    "Colorado share 51.75% of 75MAF (over 10 years) = 38.8 MAF"
   ]
  },
  {
   "cell_type": "markdown",
   "id": "cc8eaaee",
   "metadata": {
    "pycharm": {
     "name": "#%% md\n"
    }
   },
   "source": [
    "Historic rolling sum deliveries (calculated in annual_outflow.txt)"
   ]
  },
  {
   "cell_type": "code",
   "execution_count": 27,
   "id": "75e65c48",
   "metadata": {
    "pycharm": {
     "name": "#%%\n"
    }
   },
   "outputs": [],
   "source": [
    "deliveries_percentiles = [47188.4455, 49773.50211, 50883.05469, 51883.83987, 52885.69665,\n",
    "                          53936.31123, 55008.80431, 59595.07407, 65741.68286, 74711.95786]\n",
    "historic_mean = deliveries_percentiles[4]"
   ]
  },
  {
   "cell_type": "markdown",
   "id": "15634956",
   "metadata": {
    "pycharm": {
     "name": "#%% md\n"
    }
   },
   "source": [
    "Function to calculate rolling sum"
   ]
  },
  {
   "cell_type": "code",
   "execution_count": 15,
   "id": "ef5073fb",
   "metadata": {
    "pycharm": {
     "name": "#%%\n"
    }
   },
   "outputs": [],
   "source": [
    "def rolling_sum(timeseries):\n",
    "    #script from https://www.geeksforgeeks.org/how-to-calculate-moving-averages-in-python/\n",
    "    window_size = 10\n",
    "\n",
    "    i = 0\n",
    "    # Initialize an empty list to store moving averages\n",
    "    moving_averages = []\n",
    "\n",
    "    # Loop through the array to consider\n",
    "    # every window of size 3\n",
    "    while i < len(timeseries) - window_size + 1:\n",
    "        # Store elements from i to i+window_size\n",
    "        # in list to get the current window\n",
    "        window = timeseries[i : i + window_size]\n",
    "\n",
    "        # Calculate the average of current window\n",
    "        window_sum = sum(window)\n",
    "\n",
    "        # Store the average of current\n",
    "        # window in moving average list\n",
    "        moving_averages.append(window_sum)\n",
    "\n",
    "        # Shift window to right by one position\n",
    "        i += 1\n",
    "    return moving_averages"
   ]
  },
  {
   "cell_type": "markdown",
   "id": "9923d21e",
   "metadata": {
    "pycharm": {
     "name": "#%% md\n"
    }
   },
   "source": [
    "Read regulated flows for all realizations for last gauge"
   ]
  },
  {
   "cell_type": "code",
   "execution_count": 16,
   "id": "2e367633",
   "metadata": {
    "pycharm": {
     "name": "#%%\n"
    }
   },
   "outputs": [],
   "source": [
    "# our target user\n",
    "structure_id = '09163500'\n",
    "\n",
    "sql = f\"\"\"\n",
    "SELECT\n",
    "    sample\n",
    "    ,realization\n",
    "    ,SUM(river_outflow) AS annual_river_outflow\n",
    "    ,CASE month\n",
    "            WHEN 'OCT' THEN year + 1\n",
    "            WHEN 'NOV' THEN year + 1\n",
    "            WHEN 'DEC' THEN year + 1\n",
    "            WHEN 'JAN' THEN year\n",
    "            WHEN 'FEB' THEN year\n",
    "            WHEN 'MAR' THEN year\n",
    "            WHEN 'APR' THEN year\n",
    "            WHEN 'MAY' THEN year\n",
    "            WHEN 'JUN' THEN year\n",
    "            WHEN 'JUL' THEN year\n",
    "            WHEN 'AUG' THEN year\n",
    "            WHEN 'SEP' THEN year\n",
    "            END AS water_year\n",
    "FROM\n",
    "    '{glob_path}'\n",
    "GROUP BY\n",
    "    structure_id\n",
    "    ,water_year\n",
    "    ,sample\n",
    "    ,realization\n",
    "HAVING\n",
    "    structure_id = '{structure_id}'\n",
    "ORDER BY\n",
    "    sample\n",
    "    ,realization\n",
    "    ,water_year;\n",
    "\"\"\"\n",
    "\n",
    "# get query result as a data frame\n",
    "df_flows = duckdb.query(sql).df()"
   ]
  },
  {
   "cell_type": "code",
   "execution_count": 17,
   "id": "338873ef",
   "metadata": {
    "pycharm": {
     "name": "#%%\n"
    }
   },
   "outputs": [
    {
     "data": {
      "text/html": [
       "<div>\n",
       "<style scoped>\n",
       "    .dataframe tbody tr th:only-of-type {\n",
       "        vertical-align: middle;\n",
       "    }\n",
       "\n",
       "    .dataframe tbody tr th {\n",
       "        vertical-align: top;\n",
       "    }\n",
       "\n",
       "    .dataframe thead th {\n",
       "        text-align: right;\n",
       "    }\n",
       "</style>\n",
       "<table border=\"1\" class=\"dataframe\">\n",
       "  <thead>\n",
       "    <tr style=\"text-align: right;\">\n",
       "      <th></th>\n",
       "      <th>sample</th>\n",
       "      <th>realization</th>\n",
       "      <th>annual_river_outflow</th>\n",
       "      <th>water_year</th>\n",
       "      <th>realization_number</th>\n",
       "    </tr>\n",
       "  </thead>\n",
       "  <tbody>\n",
       "    <tr>\n",
       "      <th>0</th>\n",
       "      <td>1</td>\n",
       "      <td>1</td>\n",
       "      <td>2,491.77</td>\n",
       "      <td>1909</td>\n",
       "      <td>1</td>\n",
       "    </tr>\n",
       "    <tr>\n",
       "      <th>1</th>\n",
       "      <td>1</td>\n",
       "      <td>1</td>\n",
       "      <td>5,518.83</td>\n",
       "      <td>1910</td>\n",
       "      <td>1</td>\n",
       "    </tr>\n",
       "    <tr>\n",
       "      <th>2</th>\n",
       "      <td>1</td>\n",
       "      <td>1</td>\n",
       "      <td>4,341.56</td>\n",
       "      <td>1911</td>\n",
       "      <td>1</td>\n",
       "    </tr>\n",
       "    <tr>\n",
       "      <th>3</th>\n",
       "      <td>1</td>\n",
       "      <td>1</td>\n",
       "      <td>5,888.51</td>\n",
       "      <td>1912</td>\n",
       "      <td>1</td>\n",
       "    </tr>\n",
       "    <tr>\n",
       "      <th>4</th>\n",
       "      <td>1</td>\n",
       "      <td>1</td>\n",
       "      <td>5,761.24</td>\n",
       "      <td>1913</td>\n",
       "      <td>1</td>\n",
       "    </tr>\n",
       "    <tr>\n",
       "      <th>...</th>\n",
       "      <td>...</td>\n",
       "      <td>...</td>\n",
       "      <td>...</td>\n",
       "      <td>...</td>\n",
       "      <td>...</td>\n",
       "    </tr>\n",
       "    <tr>\n",
       "      <th>103945</th>\n",
       "      <td>100</td>\n",
       "      <td>10</td>\n",
       "      <td>4,414.97</td>\n",
       "      <td>2009</td>\n",
       "      <td>1000</td>\n",
       "    </tr>\n",
       "    <tr>\n",
       "      <th>103946</th>\n",
       "      <td>100</td>\n",
       "      <td>10</td>\n",
       "      <td>2,512.35</td>\n",
       "      <td>2010</td>\n",
       "      <td>1000</td>\n",
       "    </tr>\n",
       "    <tr>\n",
       "      <th>103947</th>\n",
       "      <td>100</td>\n",
       "      <td>10</td>\n",
       "      <td>11,583.25</td>\n",
       "      <td>2011</td>\n",
       "      <td>1000</td>\n",
       "    </tr>\n",
       "    <tr>\n",
       "      <th>103948</th>\n",
       "      <td>100</td>\n",
       "      <td>10</td>\n",
       "      <td>4,355.07</td>\n",
       "      <td>2012</td>\n",
       "      <td>1000</td>\n",
       "    </tr>\n",
       "    <tr>\n",
       "      <th>103949</th>\n",
       "      <td>100</td>\n",
       "      <td>10</td>\n",
       "      <td>9,011.27</td>\n",
       "      <td>2013</td>\n",
       "      <td>1000</td>\n",
       "    </tr>\n",
       "  </tbody>\n",
       "</table>\n",
       "<p>103950 rows × 5 columns</p>\n",
       "</div>"
      ],
      "text/plain": [
       "        sample  realization  annual_river_outflow  water_year  \\\n",
       "0            1            1              2,491.77        1909   \n",
       "1            1            1              5,518.83        1910   \n",
       "2            1            1              4,341.56        1911   \n",
       "3            1            1              5,888.51        1912   \n",
       "4            1            1              5,761.24        1913   \n",
       "...        ...          ...                   ...         ...   \n",
       "103945     100           10              4,414.97        2009   \n",
       "103946     100           10              2,512.35        2010   \n",
       "103947     100           10             11,583.25        2011   \n",
       "103948     100           10              4,355.07        2012   \n",
       "103949     100           10              9,011.27        2013   \n",
       "\n",
       "        realization_number  \n",
       "0                        1  \n",
       "1                        1  \n",
       "2                        1  \n",
       "3                        1  \n",
       "4                        1  \n",
       "...                    ...  \n",
       "103945                1000  \n",
       "103946                1000  \n",
       "103947                1000  \n",
       "103948                1000  \n",
       "103949                1000  \n",
       "\n",
       "[103950 rows x 5 columns]"
      ]
     },
     "execution_count": 17,
     "metadata": {},
     "output_type": "execute_result"
    }
   ],
   "source": [
    "df_flows['realization_number']=(df_flows['sample']-1)*10+df_flows['realization']\n",
    "df_flows['annual_river_outflow']=df_flows['annual_river_outflow']*1233.4818/1000000\n",
    "df_flows"
   ]
  },
  {
   "cell_type": "markdown",
   "id": "e263289e",
   "metadata": {
    "pycharm": {
     "name": "#%% md\n"
    }
   },
   "source": [
    "Pick specific drought events to compare"
   ]
  },
  {
   "cell_type": "code",
   "execution_count": 18,
   "id": "af92ff19",
   "metadata": {
    "pycharm": {
     "name": "#%%\n"
    }
   },
   "outputs": [
    {
     "data": {
      "text/html": [
       "<div>\n",
       "<style scoped>\n",
       "    .dataframe tbody tr th:only-of-type {\n",
       "        vertical-align: middle;\n",
       "    }\n",
       "\n",
       "    .dataframe tbody tr th {\n",
       "        vertical-align: top;\n",
       "    }\n",
       "\n",
       "    .dataframe thead th {\n",
       "        text-align: right;\n",
       "    }\n",
       "</style>\n",
       "<table border=\"1\" class=\"dataframe\">\n",
       "  <thead>\n",
       "    <tr style=\"text-align: right;\">\n",
       "      <th></th>\n",
       "      <th>realization_number</th>\n",
       "      <th>shortage ratio</th>\n",
       "      <th>duration</th>\n",
       "    </tr>\n",
       "  </thead>\n",
       "  <tbody>\n",
       "    <tr>\n",
       "      <th>2</th>\n",
       "      <td>5</td>\n",
       "      <td>0.16</td>\n",
       "      <td>22</td>\n",
       "    </tr>\n",
       "    <tr>\n",
       "      <th>26</th>\n",
       "      <td>178</td>\n",
       "      <td>0.20</td>\n",
       "      <td>22</td>\n",
       "    </tr>\n",
       "    <tr>\n",
       "      <th>42</th>\n",
       "      <td>431</td>\n",
       "      <td>0.24</td>\n",
       "      <td>22</td>\n",
       "    </tr>\n",
       "    <tr>\n",
       "      <th>83</th>\n",
       "      <td>896</td>\n",
       "      <td>0.24</td>\n",
       "      <td>22</td>\n",
       "    </tr>\n",
       "    <tr>\n",
       "      <th>10</th>\n",
       "      <td>31</td>\n",
       "      <td>0.24</td>\n",
       "      <td>22</td>\n",
       "    </tr>\n",
       "    <tr>\n",
       "      <th>88</th>\n",
       "      <td>905</td>\n",
       "      <td>0.28</td>\n",
       "      <td>22</td>\n",
       "    </tr>\n",
       "  </tbody>\n",
       "</table>\n",
       "</div>"
      ],
      "text/plain": [
       "   realization_number  shortage ratio  duration\n",
       "2                   5            0.16        22\n",
       "26                178            0.20        22\n",
       "42                431            0.24        22\n",
       "83                896            0.24        22\n",
       "10                 31            0.24        22\n",
       "88                905            0.28        22"
      ]
     },
     "execution_count": 18,
     "metadata": {},
     "output_type": "execute_result"
    }
   ],
   "source": [
    "# Realization with smallest duration and highest shortage ratio\n",
    "summary_df[summary_df['duration'] == 22].sort_values(\"shortage ratio\", ascending=True)"
   ]
  },
  {
   "cell_type": "markdown",
   "id": "96f54afd",
   "metadata": {
    "pycharm": {
     "name": "#%% md\n"
    }
   },
   "source": [
    "Extract flows for realization and sum "
   ]
  },
  {
   "cell_type": "code",
   "execution_count": 19,
   "id": "bb2eda97",
   "metadata": {
    "pycharm": {
     "name": "#%%\n"
    }
   },
   "outputs": [],
   "source": [
    "focus_real = 178\n",
    "flows = df_flows['annual_river_outflow'][df_flows['realization_number']==focus_real]\n",
    "roll_sum = rolling_sum(flows)"
   ]
  },
  {
   "cell_type": "markdown",
   "id": "0e7d61c0",
   "metadata": {
    "pycharm": {
     "name": "#%% md\n"
    }
   },
   "source": [
    "Highlight drought years"
   ]
  },
  {
   "cell_type": "code",
   "execution_count": 20,
   "id": "adab02e5",
   "metadata": {
    "pycharm": {
     "name": "#%%\n"
    }
   },
   "outputs": [],
   "source": [
    "years = ast.literal_eval(droughts_df.at[focus_real,'Drought years'])[1]\n",
    "years = [year+1909 for year in years]"
   ]
  },
  {
   "cell_type": "code",
   "execution_count": 21,
   "id": "d582ca6b",
   "metadata": {
    "pycharm": {
     "name": "#%%\n"
    }
   },
   "outputs": [
    {
     "data": {
      "text/plain": [
       "[1980,\n",
       " 1981,\n",
       " 1982,\n",
       " 1983,\n",
       " 1984,\n",
       " 1985,\n",
       " 1986,\n",
       " 1987,\n",
       " 1988,\n",
       " 1989,\n",
       " 1990,\n",
       " 1948,\n",
       " 1949,\n",
       " 1950,\n",
       " 1951,\n",
       " 1952,\n",
       " 1953,\n",
       " 1954,\n",
       " 1955,\n",
       " 1956,\n",
       " 1957,\n",
       " 1958]"
      ]
     },
     "execution_count": 21,
     "metadata": {},
     "output_type": "execute_result"
    }
   ],
   "source": [
    "years"
   ]
  },
  {
   "cell_type": "markdown",
   "id": "af5afa0e",
   "metadata": {
    "pycharm": {
     "name": "#%% md\n"
    }
   },
   "source": [
    "Plot rolling sum of basin deliveries"
   ]
  },
  {
   "cell_type": "code",
   "execution_count": 35,
   "id": "0f656d1a",
   "metadata": {
    "pycharm": {
     "name": "#%%\n"
    }
   },
   "outputs": [
    {
     "data": {
      "image/png": "[encoded data removed]",
      "text/plain": [
       "<Figure size 864x648 with 1 Axes>"
      ]
     },
     "metadata": {
      "needs_background": "light"
     },
     "output_type": "display_data"
    }
   ],
   "source": [
    "fig, ax = plt.subplots(1, 1, figsize=(12,9))\n",
    "ax.plot(np.arange(1913, 2009), roll_sum, linewidth=3, color='orange', label='10-yr delivery')\n",
    "ax.hlines(y=historic_mean, xmin=1909, xmax=2013, linewidth=2, color='black', \n",
    "          label='Historical mean 10-year delivery')\n",
    "ax.hlines(y=recent_mean, xmin=1909, xmax=2013, linewidth=2, color='dimgrey', \n",
    "          label='Recent mean 10-year delivery (2000-2015)')\n",
    "ax.fill_between(np.arange(1913, 2009), roll_sum, historic_mean, \n",
    "                where=np.asarray(roll_sum) >= historic_mean, facecolor='bisque', interpolate=True)\n",
    "ax.fill_between(np.arange(1913, 2009), roll_sum, historic_mean, \n",
    "                where=np.asarray(roll_sum) <= historic_mean, facecolor='tomato', interpolate=True)\n",
    "ax.axvline(x=np.min(years), linewidth=2, linestyle='--', color='gainsboro')\n",
    "ax.axvline(x=np.max(years), linewidth=2, linestyle='--', color='gainsboro')\n",
    "ax.tick_params(axis='both', labelsize=14)\n",
    "ax.set_ylabel(\"Rolling sum of annual flow (Million $m^3$)\", fontsize=16)\n",
    "ax.set_xlabel(\"Year\", fontsize=16)\n",
    "ax.legend(fontsize=16)\n",
    "plt.show()"
   ]
  },
  {
   "cell_type": "markdown",
   "id": "7b469e91",
   "metadata": {
    "pycharm": {
     "name": "#%% md\n"
    }
   },
   "source": [
    "Drought impacts for users (pie charts on map) replicate this https://datavizproject.com/wp-content/uploads/2016/02/Sk%C3%A6rmbillede-2017-10-11-kl.-16.24.07.png"
   ]
  },
  {
   "cell_type": "markdown",
   "id": "113d499c",
   "metadata": {
    "pycharm": {
     "name": "#%% md\n"
    }
   },
   "source": [
    "### Look at shortages before and during drought"
   ]
  },
  {
   "cell_type": "code",
   "execution_count": 23,
   "id": "f521985e",
   "metadata": {
    "pycharm": {
     "name": "#%%\n"
    }
   },
   "outputs": [],
   "source": [
    "sql = f\"\"\"\n",
    "SELECT\n",
    "    sample\n",
    "    ,realization\n",
    "    ,structure_id\n",
    "    ,SUM(shortage) AS annual_shortage\n",
    "    ,SUM(demand) AS annual_demand\n",
    "    ,CASE month\n",
    "            WHEN 'OCT' THEN year + 1\n",
    "            WHEN 'NOV' THEN year + 1\n",
    "            WHEN 'DEC' THEN year + 1\n",
    "            WHEN 'JAN' THEN year\n",
    "            WHEN 'FEB' THEN year\n",
    "            WHEN 'MAR' THEN year\n",
    "            WHEN 'APR' THEN year\n",
    "            WHEN 'MAY' THEN year\n",
    "            WHEN 'JUN' THEN year\n",
    "            WHEN 'JUL' THEN year\n",
    "            WHEN 'AUG' THEN year\n",
    "            WHEN 'SEP' THEN year\n",
    "            END AS water_year\n",
    "FROM\n",
    "    '{glob_path}'\n",
    "GROUP BY\n",
    "    structure_id\n",
    "    ,water_year\n",
    "    ,sample\n",
    "    ,realization\n",
    "ORDER BY\n",
    "    sample\n",
    "    ,realization\n",
    "    ,water_year\n",
    "    ,structure_id;\n",
    "\"\"\"\n",
    "\n",
    "# get query result as a data frame\n",
    "impacts_df = duckdb.query(sql).df()"
   ]
  },
  {
   "cell_type": "code",
   "execution_count": 24,
   "id": "c8ef4303",
   "metadata": {
    "pycharm": {
     "name": "#%%\n"
    }
   },
   "outputs": [
    {
     "data": {
      "text/html": [
       "<div>\n",
       "<style scoped>\n",
       "    .dataframe tbody tr th:only-of-type {\n",
       "        vertical-align: middle;\n",
       "    }\n",
       "\n",
       "    .dataframe tbody tr th {\n",
       "        vertical-align: top;\n",
       "    }\n",
       "\n",
       "    .dataframe thead th {\n",
       "        text-align: right;\n",
       "    }\n",
       "</style>\n",
       "<table border=\"1\" class=\"dataframe\">\n",
       "  <thead>\n",
       "    <tr style=\"text-align: right;\">\n",
       "      <th></th>\n",
       "      <th>sample</th>\n",
       "      <th>realization</th>\n",
       "      <th>structure_id</th>\n",
       "      <th>annual_shortage</th>\n",
       "      <th>annual_demand</th>\n",
       "      <th>water_year</th>\n",
       "      <th>realization_number</th>\n",
       "    </tr>\n",
       "  </thead>\n",
       "  <tbody>\n",
       "    <tr>\n",
       "      <th>0</th>\n",
       "      <td>1</td>\n",
       "      <td>1</td>\n",
       "      <td>09010500</td>\n",
       "      <td>0.00</td>\n",
       "      <td>0.00</td>\n",
       "      <td>1909</td>\n",
       "      <td>1</td>\n",
       "    </tr>\n",
       "    <tr>\n",
       "      <th>1</th>\n",
       "      <td>1</td>\n",
       "      <td>1</td>\n",
       "      <td>09019500</td>\n",
       "      <td>0.00</td>\n",
       "      <td>0.00</td>\n",
       "      <td>1909</td>\n",
       "      <td>1</td>\n",
       "    </tr>\n",
       "    <tr>\n",
       "      <th>2</th>\n",
       "      <td>1</td>\n",
       "      <td>1</td>\n",
       "      <td>09021000</td>\n",
       "      <td>0.00</td>\n",
       "      <td>0.00</td>\n",
       "      <td>1909</td>\n",
       "      <td>1</td>\n",
       "    </tr>\n",
       "    <tr>\n",
       "      <th>3</th>\n",
       "      <td>1</td>\n",
       "      <td>1</td>\n",
       "      <td>09024000</td>\n",
       "      <td>0.00</td>\n",
       "      <td>0.00</td>\n",
       "      <td>1909</td>\n",
       "      <td>1</td>\n",
       "    </tr>\n",
       "    <tr>\n",
       "      <th>4</th>\n",
       "      <td>1</td>\n",
       "      <td>1</td>\n",
       "      <td>09025000</td>\n",
       "      <td>0.00</td>\n",
       "      <td>0.00</td>\n",
       "      <td>1909</td>\n",
       "      <td>1</td>\n",
       "    </tr>\n",
       "    <tr>\n",
       "      <th>...</th>\n",
       "      <td>...</td>\n",
       "      <td>...</td>\n",
       "      <td>...</td>\n",
       "      <td>...</td>\n",
       "      <td>...</td>\n",
       "      <td>...</td>\n",
       "      <td>...</td>\n",
       "    </tr>\n",
       "    <tr>\n",
       "      <th>39397045</th>\n",
       "      <td>100</td>\n",
       "      <td>10</td>\n",
       "      <td>72_ADC061</td>\n",
       "      <td>0.08</td>\n",
       "      <td>2.16</td>\n",
       "      <td>2013</td>\n",
       "      <td>1000</td>\n",
       "    </tr>\n",
       "    <tr>\n",
       "      <th>39397046</th>\n",
       "      <td>100</td>\n",
       "      <td>10</td>\n",
       "      <td>72_ADC062</td>\n",
       "      <td>0.13</td>\n",
       "      <td>4.13</td>\n",
       "      <td>2013</td>\n",
       "      <td>1000</td>\n",
       "    </tr>\n",
       "    <tr>\n",
       "      <th>39397047</th>\n",
       "      <td>100</td>\n",
       "      <td>10</td>\n",
       "      <td>72_ADC063</td>\n",
       "      <td>0.00</td>\n",
       "      <td>3.84</td>\n",
       "      <td>2013</td>\n",
       "      <td>1000</td>\n",
       "    </tr>\n",
       "    <tr>\n",
       "      <th>39397048</th>\n",
       "      <td>100</td>\n",
       "      <td>10</td>\n",
       "      <td>72_ADC064</td>\n",
       "      <td>1.02</td>\n",
       "      <td>2.20</td>\n",
       "      <td>2013</td>\n",
       "      <td>1000</td>\n",
       "    </tr>\n",
       "    <tr>\n",
       "      <th>39397049</th>\n",
       "      <td>100</td>\n",
       "      <td>10</td>\n",
       "      <td>72_ADC065</td>\n",
       "      <td>0.00</td>\n",
       "      <td>11.43</td>\n",
       "      <td>2013</td>\n",
       "      <td>1000</td>\n",
       "    </tr>\n",
       "  </tbody>\n",
       "</table>\n",
       "<p>39397050 rows × 7 columns</p>\n",
       "</div>"
      ],
      "text/plain": [
       "          sample  realization structure_id  annual_shortage  annual_demand  \\\n",
       "0              1            1     09010500             0.00           0.00   \n",
       "1              1            1     09019500             0.00           0.00   \n",
       "2              1            1     09021000             0.00           0.00   \n",
       "3              1            1     09024000             0.00           0.00   \n",
       "4              1            1     09025000             0.00           0.00   \n",
       "...          ...          ...          ...              ...            ...   \n",
       "39397045     100           10    72_ADC061             0.08           2.16   \n",
       "39397046     100           10    72_ADC062             0.13           4.13   \n",
       "39397047     100           10    72_ADC063             0.00           3.84   \n",
       "39397048     100           10    72_ADC064             1.02           2.20   \n",
       "39397049     100           10    72_ADC065             0.00          11.43   \n",
       "\n",
       "          water_year  realization_number  \n",
       "0               1909                   1  \n",
       "1               1909                   1  \n",
       "2               1909                   1  \n",
       "3               1909                   1  \n",
       "4               1909                   1  \n",
       "...              ...                 ...  \n",
       "39397045        2013                1000  \n",
       "39397046        2013                1000  \n",
       "39397047        2013                1000  \n",
       "39397048        2013                1000  \n",
       "39397049        2013                1000  \n",
       "\n",
       "[39397050 rows x 7 columns]"
      ]
     },
     "execution_count": 24,
     "metadata": {},
     "output_type": "execute_result"
    }
   ],
   "source": [
    "impacts_df['realization_number']=(impacts_df['sample']-1)*10+impacts_df['realization']\n",
    "impacts_df['annual_shortage']=impacts_df['annual_shortage']*1233.4818/1000000\n",
    "impacts_df['annual_demand']=impacts_df['annual_demand']*1233.4818/1000000\n",
    "impacts_df"
   ]
  },
  {
   "cell_type": "markdown",
   "id": "540b98e3",
   "metadata": {
    "pycharm": {
     "name": "#%% md\n"
    }
   },
   "source": [
    "#### Look at shortages for specific user for specific years"
   ]
  },
  {
   "cell_type": "code",
   "execution_count": 25,
   "id": "55b9dea3",
   "metadata": {
    "pycharm": {
     "name": "#%%\n"
    }
   },
   "outputs": [],
   "source": [
    "additional_years = np.arange(np.min(years)-5, np.min(years)).tolist()\n",
    "allyears = np.sort(additional_years + years)\n",
    "\n",
    "user_id='7200799'\n",
    "\n",
    "limited_df = impacts_df.loc[(impacts_df['realization_number']==focus_real) & \n",
    "                            (impacts_df['structure_id']==user_id) &\n",
    "                            (impacts_df['water_year'].isin(allyears))]"
   ]
  },
  {
   "cell_type": "code",
   "execution_count": 26,
   "id": "4e6cdf4d",
   "metadata": {
    "pycharm": {
     "name": "#%%\n"
    }
   },
   "outputs": [
    {
     "data": {
      "image/png": "[encoded data removed]",
      "text/plain": [
       "<Figure size 576x288 with 1 Axes>"
      ]
     },
     "metadata": {
      "needs_background": "light"
     },
     "output_type": "display_data"
    }
   ],
   "source": [
    "cum_sum_demands = np.cumsum(limited_df['annual_demand'].values)\n",
    "cum_sum_shortages = np.cumsum(limited_df['annual_shortage'].values)\n",
    "\n",
    "fig, ax = plt.subplots(1, 1, figsize=(8,4))\n",
    "\n",
    "ax.plot(allyears, cum_sum_demands, linewidth=3, color='orange', label='Cumulative demand')\n",
    "ax.fill_between(allyears, 0, cum_sum_demands, \n",
    "                facecolor='bisque', interpolate=True)\n",
    "ax.plot(allyears, cum_sum_shortages, linewidth=3, color='firebrick', label='Cumulative shortage')\n",
    "ax.fill_between(allyears, 0, cum_sum_shortages, \n",
    "                facecolor='tomato', interpolate=True)\n",
    "\n",
    "ax.axvline(x=np.min(years), linewidth=2, linestyle='--', color='grey')\n",
    "ax.axvline(x=np.max(years), linewidth=2, linestyle='--', color='grey')\n",
    "\n",
    "\n",
    "ax.tick_params(axis='both', labelsize=14)\n",
    "ax.set_title(\"Drought impacts on user \"+user_id, fontsize=18)\n",
    "ax.set_ylabel(\"Cumulative sum (Million $m^3$)\", fontsize=16)\n",
    "ax.set_xlabel(\"Year\", fontsize=16)\n",
    "#ax.legend(fontsize=16, loc='upper left')\n",
    "plt.show()"
   ]
  },
  {
   "cell_type": "code",
   "execution_count": null,
   "id": "4bcf38f8",
   "metadata": {
    "pycharm": {
     "name": "#%%\n"
    }
   },
   "outputs": [],
   "source": []
  }
 ],
 "metadata": {
  "kernelspec": {
   "display_name": "Python 3",
   "language": "python",
   "name": "python3"
  },
  "language_info": {
   "codemirror_mode": {
    "name": "ipython",
    "version": 3
   },
   "file_extension": ".py",
   "mimetype": "text/x-python",
   "name": "python",
   "nbconvert_exporter": "python",
   "pygments_lexer": "ipython3",
   "version": "3.6.8"
  }
 },
 "nbformat": 4,
 "nbformat_minor": 5
}