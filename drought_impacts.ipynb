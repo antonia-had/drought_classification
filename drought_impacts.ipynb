{
 "cells": [
  {
   "cell_type": "code",
   "execution_count": 1,
   "id": "a2fd1a38",
   "metadata": {},
   "outputs": [],
   "source": [
    "import pandas as pd\n",
    "import numpy as np\n",
    "import os\n",
    "import glob\n",
    "import duckdb\n",
    "import ast"
   ]
  },
  {
   "cell_type": "code",
   "execution_count": 2,
   "id": "102a4472",
   "metadata": {},
   "outputs": [],
   "source": [
    "droughts_df = pd.read_csv('../rival_framings_demand/drought_counts_all_realizations.csv', index_col=0)"
   ]
  },
  {
   "cell_type": "code",
   "execution_count": 3,
   "id": "e24cf3ec",
   "metadata": {},
   "outputs": [],
   "source": [
    "# directory where the experiment data is stored\n",
    "flow_data_dir = '../rival_framings_demand/xdd_parquet_flow'"
   ]
  },
  {
   "cell_type": "markdown",
   "id": "779b97ff",
   "metadata": {},
   "source": [
    "Identify realizations similar or better than history (drought years=22)"
   ]
  },
  {
   "cell_type": "code",
   "execution_count": 47,
   "id": "cf38361a",
   "metadata": {},
   "outputs": [],
   "source": [
    "realizations_history=tuple(map(str, np.where((droughts_df['Total counts'] >=10) & (droughts_df['Total counts'] <= 22))[0]))"
   ]
  },
  {
   "cell_type": "markdown",
   "id": "9f33e9fe",
   "metadata": {},
   "source": [
    "Function converting order number to sample and realization for file retrieval"
   ]
  },
  {
   "cell_type": "code",
   "execution_count": 6,
   "id": "1049c902",
   "metadata": {},
   "outputs": [],
   "source": [
    "no_to_realization = lambda x: (int(x/10)+1, (x)%10+1)"
   ]
  },
  {
   "cell_type": "markdown",
   "id": "67040cad",
   "metadata": {},
   "source": [
    "Identify all samples that produce these realizations"
   ]
  },
  {
   "cell_type": "code",
   "execution_count": 7,
   "id": "bdc35aa3",
   "metadata": {},
   "outputs": [],
   "source": [
    "samples = tuple(np.unique([no_to_realization(x)[0] for x in realizations_history]))"
   ]
  },
  {
   "cell_type": "markdown",
   "id": "40c84352",
   "metadata": {},
   "source": [
    "Create glob path to specific realization results"
   ]
  },
  {
   "cell_type": "code",
   "execution_count": 54,
   "id": "0cd2dac1",
   "metadata": {},
   "outputs": [],
   "source": [
    "# target glob path\n",
    "glob_path = os.path.join(flow_data_dir, f'S*_*.parquet')\n",
    "\n",
    "# number of files in file query\n",
    "n_files = len(glob.glob(glob_path))"
   ]
  },
  {
   "cell_type": "code",
   "execution_count": 55,
   "id": "dc9e2c1d",
   "metadata": {},
   "outputs": [
    {
     "data": {
      "text/html": [
       "<div>\n",
       "<style scoped>\n",
       "    .dataframe tbody tr th:only-of-type {\n",
       "        vertical-align: middle;\n",
       "    }\n",
       "\n",
       "    .dataframe tbody tr th {\n",
       "        vertical-align: top;\n",
       "    }\n",
       "\n",
       "    .dataframe thead th {\n",
       "        text-align: right;\n",
       "    }\n",
       "</style>\n",
       "<table border=\"1\" class=\"dataframe\">\n",
       "  <thead>\n",
       "    <tr style=\"text-align: right;\">\n",
       "      <th></th>\n",
       "      <th>structure_id</th>\n",
       "      <th>year</th>\n",
       "      <th>month</th>\n",
       "      <th>demand</th>\n",
       "      <th>shortage</th>\n",
       "      <th>river_outflow</th>\n",
       "      <th>control_location</th>\n",
       "      <th>sample</th>\n",
       "      <th>realization</th>\n",
       "    </tr>\n",
       "  </thead>\n",
       "  <tbody>\n",
       "    <tr>\n",
       "      <th>0</th>\n",
       "      <td>09010500</td>\n",
       "      <td>1908</td>\n",
       "      <td>OCT</td>\n",
       "      <td>0</td>\n",
       "      <td>0</td>\n",
       "      <td>2076</td>\n",
       "      <td>NaN</td>\n",
       "      <td>1</td>\n",
       "      <td>6</td>\n",
       "    </tr>\n",
       "    <tr>\n",
       "      <th>1</th>\n",
       "      <td>09010500</td>\n",
       "      <td>1908</td>\n",
       "      <td>NOV</td>\n",
       "      <td>0</td>\n",
       "      <td>0</td>\n",
       "      <td>1449</td>\n",
       "      <td>NaN</td>\n",
       "      <td>1</td>\n",
       "      <td>6</td>\n",
       "    </tr>\n",
       "    <tr>\n",
       "      <th>2</th>\n",
       "      <td>09010500</td>\n",
       "      <td>1908</td>\n",
       "      <td>DEC</td>\n",
       "      <td>0</td>\n",
       "      <td>0</td>\n",
       "      <td>844</td>\n",
       "      <td>NaN</td>\n",
       "      <td>1</td>\n",
       "      <td>6</td>\n",
       "    </tr>\n",
       "    <tr>\n",
       "      <th>3</th>\n",
       "      <td>09010500</td>\n",
       "      <td>1909</td>\n",
       "      <td>JAN</td>\n",
       "      <td>0</td>\n",
       "      <td>0</td>\n",
       "      <td>600</td>\n",
       "      <td>NaN</td>\n",
       "      <td>1</td>\n",
       "      <td>6</td>\n",
       "    </tr>\n",
       "    <tr>\n",
       "      <th>4</th>\n",
       "      <td>09010500</td>\n",
       "      <td>1909</td>\n",
       "      <td>FEB</td>\n",
       "      <td>0</td>\n",
       "      <td>0</td>\n",
       "      <td>522</td>\n",
       "      <td>NaN</td>\n",
       "      <td>1</td>\n",
       "      <td>6</td>\n",
       "    </tr>\n",
       "    <tr>\n",
       "      <th>...</th>\n",
       "      <td>...</td>\n",
       "      <td>...</td>\n",
       "      <td>...</td>\n",
       "      <td>...</td>\n",
       "      <td>...</td>\n",
       "      <td>...</td>\n",
       "      <td>...</td>\n",
       "      <td>...</td>\n",
       "      <td>...</td>\n",
       "    </tr>\n",
       "    <tr>\n",
       "      <th>45366295</th>\n",
       "      <td>09163500</td>\n",
       "      <td>2013</td>\n",
       "      <td>MAY</td>\n",
       "      <td>0</td>\n",
       "      <td>0</td>\n",
       "      <td>132537</td>\n",
       "      <td>NaN</td>\n",
       "      <td>17</td>\n",
       "      <td>3</td>\n",
       "    </tr>\n",
       "    <tr>\n",
       "      <th>45366296</th>\n",
       "      <td>09163500</td>\n",
       "      <td>2013</td>\n",
       "      <td>JUN</td>\n",
       "      <td>0</td>\n",
       "      <td>0</td>\n",
       "      <td>129776</td>\n",
       "      <td>NaN</td>\n",
       "      <td>17</td>\n",
       "      <td>3</td>\n",
       "    </tr>\n",
       "    <tr>\n",
       "      <th>45366297</th>\n",
       "      <td>09163500</td>\n",
       "      <td>2013</td>\n",
       "      <td>JUL</td>\n",
       "      <td>0</td>\n",
       "      <td>0</td>\n",
       "      <td>84393</td>\n",
       "      <td>NaN</td>\n",
       "      <td>17</td>\n",
       "      <td>3</td>\n",
       "    </tr>\n",
       "    <tr>\n",
       "      <th>45366298</th>\n",
       "      <td>09163500</td>\n",
       "      <td>2013</td>\n",
       "      <td>AUG</td>\n",
       "      <td>0</td>\n",
       "      <td>0</td>\n",
       "      <td>86346</td>\n",
       "      <td>NaN</td>\n",
       "      <td>17</td>\n",
       "      <td>3</td>\n",
       "    </tr>\n",
       "    <tr>\n",
       "      <th>45366299</th>\n",
       "      <td>09163500</td>\n",
       "      <td>2013</td>\n",
       "      <td>SEP</td>\n",
       "      <td>0</td>\n",
       "      <td>0</td>\n",
       "      <td>104404</td>\n",
       "      <td>NaN</td>\n",
       "      <td>17</td>\n",
       "      <td>3</td>\n",
       "    </tr>\n",
       "  </tbody>\n",
       "</table>\n",
       "<p>45366300 rows × 9 columns</p>\n",
       "</div>"
      ],
      "text/plain": [
       "         structure_id  year month  demand  shortage  river_outflow  \\\n",
       "0            09010500  1908   OCT       0         0           2076   \n",
       "1            09010500  1908   NOV       0         0           1449   \n",
       "2            09010500  1908   DEC       0         0            844   \n",
       "3            09010500  1909   JAN       0         0            600   \n",
       "4            09010500  1909   FEB       0         0            522   \n",
       "...               ...   ...   ...     ...       ...            ...   \n",
       "45366295     09163500  2013   MAY       0         0         132537   \n",
       "45366296     09163500  2013   JUN       0         0         129776   \n",
       "45366297     09163500  2013   JUL       0         0          84393   \n",
       "45366298     09163500  2013   AUG       0         0          86346   \n",
       "45366299     09163500  2013   SEP       0         0         104404   \n",
       "\n",
       "         control_location  sample  realization  \n",
       "0                     NaN       1            6  \n",
       "1                     NaN       1            6  \n",
       "2                     NaN       1            6  \n",
       "3                     NaN       1            6  \n",
       "4                     NaN       1            6  \n",
       "...                   ...     ...          ...  \n",
       "45366295              NaN      17            3  \n",
       "45366296              NaN      17            3  \n",
       "45366297              NaN      17            3  \n",
       "45366298              NaN      17            3  \n",
       "45366299              NaN      17            3  \n",
       "\n",
       "[45366300 rows x 9 columns]"
      ]
     },
     "execution_count": 55,
     "metadata": {},
     "output_type": "execute_result"
    }
   ],
   "source": [
    "#limits rows to those that belong to list of realizations\n",
    "sql = f\"\"\"\n",
    "SELECT \n",
    "    *\n",
    "FROM\n",
    "    '{glob_path}'\n",
    "WHERE\n",
    "    (sample-1)*10+realization in {realizations_history}; \n",
    "\"\"\"\n",
    "\n",
    "df = duckdb.query(sql).df()\n",
    "df"
   ]
  },
  {
   "cell_type": "code",
   "execution_count": 60,
   "id": "a0f24ac0",
   "metadata": {},
   "outputs": [],
   "source": [
    "df['realization_number']=(df['sample']-1)*10+df['realization']"
   ]
  },
  {
   "cell_type": "code",
   "execution_count": 125,
   "id": "98b40bb1",
   "metadata": {},
   "outputs": [
    {
     "name": "stderr",
     "output_type": "stream",
     "text": [
      "/home/fs02/pmr82_0001/ah986/rival_framings/lib64/python3.6/site-packages/ipykernel_launcher.py:8: RuntimeWarning: invalid value encountered in long_scalars\n",
      "  \n"
     ]
    }
   ],
   "source": [
    "shortage_ratio = []\n",
    "years_list = []\n",
    "for i in realizations_history:\n",
    "    years = ast.literal_eval(droughts_df.at[int(i),'Drought years'])[1]\n",
    "    years = [x+1908 for x in years]\n",
    "    total_demand = df.loc[(df['realization_number'] == int(i)) & (df['year'].isin(years)), 'demand'].sum()\n",
    "    total_shortage = df.loc[(df['realization_number'] == int(i)) & (df['year'].isin(years)), 'shortage'].sum()\n",
    "    shortage_ratio.append(total_shortage/total_demand)\n",
    "    years_list.append(len(years))"
   ]
  },
  {
   "cell_type": "code",
   "execution_count": 126,
   "id": "0c42891b",
   "metadata": {},
   "outputs": [
    {
     "data": {
      "image/png": "[encoded data removed]",
      "text/plain": [
       "<Figure size 432x288 with 1 Axes>"
      ]
     },
     "metadata": {
      "needs_background": "light"
     },
     "output_type": "display_data"
    }
   ],
   "source": [
    "import matplotlib.pyplot as plt\n",
    "plt.scatter(years_list, shortage_ratio)\n",
    "plt.show()"
   ]
  },
  {
   "cell_type": "code",
   "execution_count": null,
   "id": "49c8897e",
   "metadata": {},
   "outputs": [],
   "source": []
  }
 ],
 "metadata": {
  "kernelspec": {
   "display_name": "Python 3",
   "language": "python",
   "name": "python3"
  },
  "language_info": {
   "codemirror_mode": {
    "name": "ipython",
    "version": 3
   },
   "file_extension": ".py",
   "mimetype": "text/x-python",
   "name": "python",
   "nbconvert_exporter": "python",
   "pygments_lexer": "ipython3",
   "version": "3.6.8"
  }
 },
 "nbformat": 4,
 "nbformat_minor": 5
}
